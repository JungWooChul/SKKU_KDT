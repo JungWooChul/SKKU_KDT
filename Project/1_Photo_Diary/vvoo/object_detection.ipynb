{
 "cells": [
  {
   "cell_type": "code",
   "execution_count": null,
   "metadata": {},
   "outputs": [],
   "source": [
    "!git clone "
   ]
  }
 ],
 "metadata": {
  "kernelspec": {
   "display_name": "Python 3.10.9 64-bit ('anaconda3')",
   "language": "python",
   "name": "python3"
  },
  "language_info": {
   "name": "python",
   "version": "3.10.9"
  },
  "orig_nbformat": 4,
  "vscode": {
   "interpreter": {
    "hash": "fd1d485664b51f0592ac0f5de8ec7c658d25bf980dade393a2332f18e9f31231"
   }
  }
 },
 "nbformat": 4,
 "nbformat_minor": 2
}
